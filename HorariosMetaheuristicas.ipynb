{
 "cells": [
  {
   "cell_type": "markdown",
   "metadata": {},
   "source": [
    "<h1 style=\"background-color:Teal;font-size:36pt;color:white\">Resolución de una clase de problema de horario usando algoritmos genéticos</h1>\n",
    "<h3 align=\"center\">\n",
    "Máster en Matemáticas y Computación - Universidad de Cantabria <br>\n",
    "Realizado por: Giusseppe Benito Bervis Quintero.\n",
    "</h3> \n",
    "\n",
    "\n",
    "## Clase \"Schedule\"\n",
    "\n",
    "Para la resolución de este problema se desarrollo la clase **\"Schedule\"**, en Python, y esta posee los parámetros y métodos propios para resolver un problema de horario donde se desea:\n",
    "  - Minimizar el número fechas y aulas ocupadas\n",
    "  - Maximizar las distancias entre exámenes, para alumnos, y las holguras de aforos.\n",
    "En esta clase se contemplan las \"hard constraints\" usuales, a saber:\n",
    "  - No es posible que un profesor o un alumno tengan examen de dos cosas a la vez, ni que un aula esté ocupada simultáneamente, ni que se supere su capacidad.\n",
    "\n",
    "## Input data:\n",
    "- **C:** Lista de valores de ponderación de los pesos, en orden: \"fechas, salones, Dist_Ex y Holguras\"\n",
    "- **TE:** Matriz de profesores - exámenes (profesor *i* cuidará el examen *j*).\n",
    "- **SE:** Matriz de estudiantes - exámenes (estudiante *i* realizará exámen *j*).\n",
    "- **R:** Lista de capacidades de los salones\n",
    "- **days:** Cantidad de días en los que se desea acomodar el horario. (Se asumen 4 períodos por día).\n",
    "\n",
    "## Output:\n",
    "Como salida se tiene:\n",
    "- Un diccionario con la mejor variable, su valor en la función objetivo, la última generación de individuos y sus valores en la función objetivo, y la cantidad de restricciones duras que viola la mejor solución.\n",
    "- Si la solución no viola ninguna restriccion dura, genera una lista \"horario\", indicando: <<examen, día, periodo y salón>>. \n"
   ]
  },
  {
   "cell_type": "markdown",
   "metadata": {},
   "source": [
    "# Resolución de un problema\n",
    "Este problema cuenta con 8 exámenes, 6 profesores, 5 estudiantes, 2 salones y 2 días para acomodar los exámenes (a linformación está contenida en los datos de entrada). La resolución se presenta a continuación, comentando los pasos entre el código."
   ]
  },
  {
   "cell_type": "code",
   "execution_count": 1,
   "metadata": {},
   "outputs": [],
   "source": [
    "# Definiendo los datos de entrada #######################################################\n",
    "\n",
    "# Pesos de las funciones en orden: Nfechas, Nsalones, Dist_Ex y Holguras\n",
    "C = [0.8,0.1,0.9,0.9]\n",
    "\n",
    "\n",
    "# Matriz de los profesores - exámenes\n",
    "TE = [[1,1,0,0,0,0,0,0],\n",
    "      [0,0,1,1,0,0,0,0],\n",
    "      [0,0,0,0,1,0,0,0],\n",
    "      [0,0,0,0,0,1,0,0],\n",
    "      [0,0,0,0,0,0,1,0],\n",
    "      [0,0,0,0,0,0,0,1],]\n",
    "\n",
    "#Matriz estudiantes - Exámenes\n",
    "SE = [[1,0,1,1,1,1,1,1],\n",
    "      [1,1,1,0,1,1,0,0],\n",
    "      [1,0,1,1,1,1,1,0],\n",
    "      [1,1,1,0,0,1,1,1],\n",
    "      [1,0,1,1,1,1,1,0]]\n",
    "\n",
    "# Número de asientos en cada salón\n",
    "R = [7,7]\n",
    "\n",
    "# Número de días\n",
    "days = 2"
   ]
  },
  {
   "cell_type": "code",
   "execution_count": 2,
   "metadata": {},
   "outputs": [
    {
     "data": {
      "text/plain": [
       "{'variable': array([0., 0., 0., 0., 0., 0., 0., 0., 0., 0., 0., 0., 0., 0., 0., 0., 0.,\n",
       "        0., 0., 0., 0., 0., 0., 1., 0., 0., 0., 0., 0., 0., 0., 0., 0., 0.,\n",
       "        0., 0., 0., 0., 0., 0., 0., 0., 1., 0., 0., 0., 0., 0., 0., 0., 0.,\n",
       "        0., 0., 0., 0., 0., 0., 0., 0., 0., 0., 1., 0., 0., 0., 0., 0., 0.,\n",
       "        0., 0., 0., 0., 0., 0., 0., 0., 0., 0., 0., 0., 0., 0., 0., 1., 0.,\n",
       "        0., 0., 0., 0., 0., 0., 0., 0., 0., 0., 0., 0., 0., 0., 0., 0., 0.,\n",
       "        0., 0., 0., 0., 0., 0., 0., 0., 0., 0., 0., 0., 0., 0., 0., 0., 0.,\n",
       "        0., 1., 0., 0., 0., 0., 0., 0., 0.]),\n",
       " 'function': 404999.1,\n",
       " 'last_generation': {'variables': array([[0., 0., 0., ..., 0., 0., 0.],\n",
       "         [0., 0., 0., ..., 0., 0., 0.],\n",
       "         [0., 0., 0., ..., 0., 0., 0.],\n",
       "         ...,\n",
       "         [0., 0., 0., ..., 0., 0., 0.],\n",
       "         [0., 1., 0., ..., 0., 0., 0.],\n",
       "         [0., 0., 0., ..., 0., 1., 0.]]),\n",
       "  'scores': array([4.04999100e+05, 4.04999100e+05, 3.27725001e+08, 3.07332500e+09,\n",
       "         4.05004500e+09, 4.61765000e+09, 4.61765000e+09, 5.24292500e+09,\n",
       "         5.92965000e+09, 5.92965000e+09, 6.68172500e+09, 6.68172500e+09,\n",
       "         7.50317000e+09, 7.50317000e+09, 7.50317000e+09, 7.50317000e+09,\n",
       "         7.50317000e+09, 8.39812500e+09, 9.37085000e+09, 9.37085000e+09,\n",
       "         9.37085000e+09, 9.37085000e+09, 1.04257250e+10, 1.15672500e+10,\n",
       "         1.15672500e+10, 1.15672500e+10, 1.15672500e+10, 1.15672500e+10,\n",
       "         1.15672500e+10, 1.41288500e+10, 1.41288500e+10, 1.41288500e+10,\n",
       "         1.55585250e+10, 1.55585250e+10, 1.70940500e+10, 1.70940500e+10,\n",
       "         1.70940500e+10, 1.70940500e+10, 1.70940500e+10, 1.87405250e+10,\n",
       "         2.05031700e+10, 2.05031700e+10, 2.05031700e+10, 2.05031700e+10,\n",
       "         2.05031700e+10, 2.05031700e+10, 2.05031700e+10, 2.23873250e+10,\n",
       "         2.23873250e+10, 2.23873250e+10, 2.23873250e+10, 2.23873250e+10,\n",
       "         2.23873250e+10, 2.23873250e+10, 2.43984500e+10, 2.43984500e+10,\n",
       "         2.43984500e+10, 2.43984500e+10, 2.43984500e+10, 2.65421250e+10,\n",
       "         2.65421250e+10, 2.65421250e+10, 2.65421250e+10, 2.88240500e+10,\n",
       "         2.88240500e+10, 2.88240500e+10, 2.88240500e+10, 2.88240500e+10,\n",
       "         3.12500450e+10, 3.12500450e+10, 3.38260500e+10, 3.38260500e+10,\n",
       "         3.38260500e+10, 3.38260500e+10, 3.38260500e+10, 3.38260500e+10,\n",
       "         3.65581250e+10, 3.94524500e+10, 3.94524500e+10, 3.94524500e+10,\n",
       "         3.94524500e+10, 4.25153250e+10, 4.57531700e+10, 4.57531700e+10,\n",
       "         4.57531700e+10, 4.57531700e+10, 4.57531700e+10, 4.91725250e+10,\n",
       "         4.91725250e+10, 4.91725250e+10, 5.27800500e+10, 5.65825250e+10,\n",
       "         5.65825250e+10, 6.05868500e+10, 6.05868500e+10, 6.48000450e+10,\n",
       "         7.87648500e+10, 7.87648500e+10, 7.87648500e+10, 1.34369325e+11])},\n",
       " 'hardC_violated': 3.0}"
      ]
     },
     "execution_count": 2,
     "metadata": {},
     "output_type": "execute_result"
    }
   ],
   "source": [
    "# Se llama el código con la clase######\n",
    "from ScheduleM import Schedule\n",
    "\n",
    "# Se define la clase con los datos de entrada\n",
    "Sch = Schedule(C,TE,SE,R,days)\n",
    "\n",
    "#Se usa el método run para ejecutar el algoritmo genético\n",
    "Sch.run(no_gen = 10, # Número máximo de generaciones\n",
    "        p_mut = 0.1, # Probabilidad de mutación\n",
    "        p_cross = 0.5, # Probabilidad de cruce\n",
    "        wo_improv = None) # Número máximo de iteraciones sin mejoras'''"
   ]
  },
  {
   "cell_type": "markdown",
   "metadata": {},
   "source": [
    "Puede ver que la solución encontrada viola 2 de las 4 restricciones duras, por lo que no imprime el horario.\n",
    "\n",
    "# Probando una solución al problema\n",
    "\n",
    "Usando el código se logró encontrar una solución que no viola ninguna de las restricciones duras, por lo que podemos generar su horario respectivo."
   ]
  },
  {
   "cell_type": "code",
   "execution_count": 12,
   "metadata": {},
   "outputs": [
    {
     "name": "stdout",
     "output_type": "stream",
     "text": [
      "Cantidad de restricciones duras violadas por la solución: 0.0\n",
      "\n",
      "Examen 1 en el día 1, periodo 4 y salón 1, \n",
      "Examen 2 en el día 1, periodo 3 y salón 1, \n",
      "Examen 3 en el día 1, periodo 1 y salón 2, \n",
      "Examen 4 en el día 2, periodo 1 y salón 1, \n",
      "Examen 5 en el día 1, periodo 2 y salón 1, \n",
      "Examen 6 en el día 2, periodo 4 y salón 1, \n",
      "Examen 7 en el día 2, periodo 2 y salón 1, \n",
      "Examen 8 en el día 2, periodo 3 y salón 1, \n"
     ]
    }
   ],
   "source": [
    "# A Solution without constraint violated\n",
    "Good_Sol = [0., 0., 0., 0., 0., 0., 1., 0., 0., 0., 0., 0., 0., 0., 0., 0., 0.,\n",
    "        0., 0., 0., 1., 0., 0., 0., 0., 0., 0., 0., 0., 0., 0., 0., 0., 1.,\n",
    "        0., 0., 0., 0., 0., 0., 0., 0., 0., 0., 0., 0., 0., 0., 0., 0., 0.,\n",
    "        0., 0., 0., 0., 0., 1., 0., 0., 0., 0., 0., 0., 0., 0., 0., 1., 0.,\n",
    "        0., 0., 0., 0., 0., 0., 0., 0., 0., 0., 0., 0., 0., 0., 0., 0., 0.,\n",
    "        0., 0., 0., 0., 0., 0., 0., 0., 0., 1., 0., 0., 0., 0., 0., 0., 0.,\n",
    "        0., 0., 0., 0., 1., 0., 0., 0., 0., 0., 0., 0., 0., 0., 0., 0., 0.,\n",
    "        0., 0., 0., 0., 0., 1., 0., 0., 0.]\n",
    "\n",
    "#Violación de restricciones duras\n",
    "print(f'Cantidad de restricciones duras violadas por la solución: {Sch.test(Good_Sol)}\\n')\n",
    "\n",
    "#Generando el horario\n",
    "Sch.sc(Good_Sol)"
   ]
  },
  {
   "cell_type": "markdown",
   "metadata": {},
   "source": [
    "Puede verse que todos los exámenes están asignados a períodos y días diferentes, con lo que cumple las restricciones duras y los parámetros de ponderación de los pesos elegidos. \n",
    "\n",
    "Se ha constatado que hay varios horarios para este problema particular, el presentado es solo uno de ellos.\n",
    "\n",
    "# Conclusión\n",
    "\n",
    "Los problemas de horarios, muchos de ellos, son NP-duros, por lo que los algoritmos tradicionales son ineficientes, en este punto juegan un papel importante las estrategias heurísticas que, si bien no siempre permiten encontrar las soluciones exactas, por lo menos permiten encontrar buenas aproximaciones, y he ahí la importancia de su estudio."
   ]
  }
 ],
 "metadata": {
  "kernelspec": {
   "display_name": "Python 3",
   "language": "python",
   "name": "python3"
  },
  "language_info": {
   "codemirror_mode": {
    "name": "ipython",
    "version": 3
   },
   "file_extension": ".py",
   "mimetype": "text/x-python",
   "name": "python",
   "nbconvert_exporter": "python",
   "pygments_lexer": "ipython3",
   "version": "3.9.0"
  }
 },
 "nbformat": 4,
 "nbformat_minor": 4
}
